{
  "nbformat": 4,
  "nbformat_minor": 0,
  "metadata": {
    "colab": {
      "provenance": [],
      "authorship_tag": "ABX9TyPJBwcbdQ6gtRTIxAqe4/ix",
      "include_colab_link": true
    },
    "kernelspec": {
      "name": "python3",
      "display_name": "Python 3"
    },
    "language_info": {
      "name": "python"
    }
  },
  "cells": [
    {
      "cell_type": "markdown",
      "metadata": {
        "id": "view-in-github",
        "colab_type": "text"
      },
      "source": [
        "<a href=\"https://colab.research.google.com/github/ItsShi/Mono-Depth/blob/main/squared.ipynb\" target=\"_parent\"><img src=\"https://colab.research.google.com/assets/colab-badge.svg\" alt=\"Open In Colab\"/></a>"
      ]
    },
    {
      "cell_type": "code",
      "execution_count": null,
      "metadata": {
        "id": "jmVj3QRyN1T-"
      },
      "outputs": [],
      "source": [
        "!pip -q install timm tensorboardX==1.4 torchvision==0.12.0"
      ]
    },
    {
      "cell_type": "code",
      "source": [
        "!rm -rf /content/asdf\n",
        "!git clone https://github.com/ItsShi/asdf.git\n",
        "\n",
        "for opt in [\"train\", \"val\", \"test\"]:\n",
        "    f = open(\"/content/asdf/splits/endovis/{}_files.txt\".format(opt), \"r+\")\n",
        "    # f = open(\"/content/{}_files_original.txt\".format(opt), \"r+\")\n",
        "    new_file = []\n",
        "    for line in f:\n",
        "      folder, frame = line.split()[0], line.split()[1]\n",
        "      if int(frame)<20 and int(frame)>0:\n",
        "        if folder == \"dataset3/keyframe1\" or folder == \"dataset3/keyframe3\" or folder == \"dataset3/keyframe4\":\n",
        "          new_file.append(line)\n",
        "    print(len(new_file))\n",
        "    with open(\"{}_files.txt\".format(opt), \"w+\") as f:\n",
        "      for i in new_file:\n",
        "        f.write(i)\n",
        "\n",
        "    !cp -f /content/{opt}_files.txt /content/asdf/splits/endovis/{opt}_files.txt"
      ],
      "metadata": {
        "id": "QD5n8eZAN5Qn"
      },
      "execution_count": null,
      "outputs": []
    },
    {
      "cell_type": "code",
      "source": [
        "# import gdown\n",
        "\n",
        "# perfect_gt_url = 'https://drive.google.com/uc?id=1GHX4ML7kUP4xFZSi56VtpZSxZdwHa2oO'\n",
        "# gdown.download(perfect_gt_url,'perfect_gt.zip',quiet=True)\n",
        "# !unzip -q perfect_gt.zip\n",
        "\n",
        "import gdown\n",
        "\n",
        "!mkdir videos\n",
        "d3k1_url = 'https://drive.google.com/uc?id=17k1-CHptG_XTXVX8qp7yK_zadH54vVnY'\n",
        "gdown.download(d3k1_url,'videos/d3k1_rgb.mp4',quiet=True)\n",
        "# frame=  329 fps= 23 q=24.8 Lsize=N/A time=00:00:13.16 bitrate=N/A speed=0.904x\n",
        "\n",
        "!pip install ffmpeg\n",
        "\n",
        "video_name = \"d3k1\"\n",
        "!ffmpeg -i /content/videos/{video_name}_rgb.mp4 -filter:v \"crop=1280:1024:0:0\" /content/videos/{video_name}_crop_rgb.mp4\n",
        "!ffmpeg -i /content/videos/{video_name}_crop_rgb.mp4 %6d.jpg\n",
        "!mkdir -p /content/frames/{video_name}\n",
        "!mv *.jpg /content/frames/{video_name}\n",
        "\n",
        "import PIL.Image as pil\n",
        "im = pil.open(\"/content/frames/{}/000001.jpg\".format(video_name))\n",
        "print(im.size)"
      ],
      "metadata": {
        "id": "OkKiC4kqN-Ij"
      },
      "execution_count": null,
      "outputs": []
    },
    {
      "cell_type": "code",
      "source": [
        "!python asdf/train_end_to_end.py --no_cuda --data_path frames/d3k1 --log_dir asdf  --num_epochs 1 --batch_size 1 --width 224 --height 224 --scales 0 # --scales 0 1 2  #--load_weights_folder womin/mdp/models/weights_19  --models_to_load \"encoder\" \"depth\" \"pose_encoder\" \"pose\""
      ],
      "metadata": {
        "id": "W-VP_MWQOA-Z"
      },
      "execution_count": null,
      "outputs": []
    }
  ]
}