{
  "nbformat": 4,
  "nbformat_minor": 0,
  "metadata": {
    "colab": {
      "provenance": [],
      "authorship_tag": "ABX9TyM3gj7sDZ7Cvptp1Dh2qyEk",
      "include_colab_link": true
    },
    "kernelspec": {
      "name": "python3",
      "display_name": "Python 3"
    },
    "language_info": {
      "name": "python"
    }
  },
  "cells": [
    {
      "cell_type": "markdown",
      "metadata": {
        "id": "view-in-github",
        "colab_type": "text"
      },
      "source": [
        "<a href=\"https://colab.research.google.com/github/ItsShi/Mono-Depth/blob/main/visualise_pose.ipynb\" target=\"_parent\"><img src=\"https://colab.research.google.com/assets/colab-badge.svg\" alt=\"Open In Colab\"/></a>"
      ]
    },
    {
      "cell_type": "code",
      "source": [
        "# https://drive.google.com/file/d/1SoD421qKt_4A5OsyQxykHniQlDpTuCi_/view?usp=sharing\n",
        "import gdown\n",
        "\n",
        "url = 'https://drive.google.com/uc?id=1SoD421qKt_4A5OsyQxykHniQlDpTuCi_'\n",
        "gdown.download(url,'SCARED_videos.zip',quiet=True)\n",
        "\n",
        "!unzip -q SCARED_videos.zip\n",
        "\n",
        "# https://drive.google.com/file/d/1kf7LjQ6a2ACKr6nX5Uyee3of3bXn1xWB/view\n",
        "url = 'https://drive.google.com/uc?id=1kf7LjQ6a2ACKr6nX5Uyee3of3bXn1xWB'\n",
        "gdown.download(url,'sfmLearner.zip',quiet=True)\n",
        "!unzip -q sfmLearner.zip"
      ],
      "metadata": {
        "id": "e0m6lZb0N64E"
      },
      "execution_count": null,
      "outputs": []
    },
    {
      "cell_type": "code",
      "execution_count": null,
      "metadata": {
        "id": "89pgDdxDN3JS"
      },
      "outputs": [],
      "source": [
        "!pip install ffmpeg\n",
        "\n",
        "video_name = \"d3k4\"\n",
        "!ffmpeg -i /content/videos/{video_name}_rgb.mp4 -filter:v \"crop=1280:1024:0:0\" /content/videos/{video_name}_crop_rgb.mp4\n",
        "\n",
        "!mkdir -p /content/frames/{video_name}\n",
        "!ffmpeg -i /content/videos/{video_name}_crop_rgb.mp4 %6d.jpg\n",
        "!mv *.jpg /content/frames/{video_name}\n",
        "\n",
        "import PIL.Image as pil\n",
        "im = pil.open(\"/content/frames/{}/000001.jpg\".format(video_name))\n",
        "print(im.size)"
      ]
    },
    {
      "cell_type": "code",
      "source": [
        "import gdown\n",
        "import shutil\n",
        "camera_url = 'https://drive.google.com/uc?id=1_G5h2CUXqdREPj8dB7DorVDQHxP4oLvF'\n",
        "gdown.download(camera_url,'SCARED_camera.zip',quiet=True)\n",
        "!unzip -q /content/SCARED_camera.zip\n",
        "shutil.unpack_archive(\"SCARED_camera/{}_frame_data.tar.gz\".format(video_name), \"{}_json\".format(video_name))\n",
        "\n",
        "import gdown\n",
        "import numpy as np\n",
        "gt_poses_url = 'https://drive.google.com/uc?id=1s6_7XgmH3Lsam2wJhTFNQCNwsjJMptA6'\n",
        "gdown.download(gt_poses_url,'gt_poses.npy',quiet=True)\n",
        "poses = np.load(\"gt_poses.npy\", allow_pickle=True).item()\n",
        "\n",
        "with open(\"{}_sequence.txt\".format(video_name), \"w+\") as f:\n",
        "    for i in range(1, len(poses[video_name])):\n",
        "        f.write(\"dataset{}/keyframe{}\\t{}\\tl\\n\".format(video_name[1], video_name[-1],i))\n"
      ],
      "metadata": {
        "id": "hcdGccZyOF06"
      },
      "execution_count": null,
      "outputs": []
    },
    {
      "cell_type": "code",
      "source": [
        "def replace_text_in_file(search_path, replace_path, search_text, replace_text):\n",
        "    with open(search_path, 'r') as file: content = file.read()\n",
        "    for i in range(len(search_text)):\n",
        "      modified_content = content.replace(search_text[i], replace_text[i])\n",
        "      content = modified_content\n",
        "    with open(replace_path, 'w') as file: file.write(modified_content)"
      ],
      "metadata": {
        "id": "oCMSMFxXOMR5"
      },
      "execution_count": null,
      "outputs": []
    },
    {
      "cell_type": "code",
      "source": [
        "!pip -q install timm\n",
        "!git clone https://github.com/ShuweiShao/AF-SfMLearner.git\n",
        "!git clone https://github.com/noahzn/Lite-Mono.git\n",
        "!git clone https://github.com/ItsShi/MonoDepth.git\n",
        "!mkdir Lite-Mono/splits/endovis/\n",
        "script_folder = \"AF-SfMLearner\"  # \"AF-SfMLearner\" #\"Lite-Mono\"\n",
        "!cp AF-SfMLearner/evaluate_pose.py {script_folder}/evaluate_pose.py\n",
        "!cp AF-SfMLearner/export_gt_pose.py {script_folder}/export_gt_pose.py\n",
        "!cp AF-SfMLearner/visualize_pose.py {script_folder}/visualize_pose.py\n",
        "!cp AF-SfMLearner/networks/pose_decoder.py {script_folder}/networks/pose_decoder.py\n",
        "!cp AF-SfMLearner/networks/resnet_encoder.py {script_folder}/networks/resnet_encoder.py\n",
        "\n",
        "!cp {video_name}_sequence.txt {script_folder}/splits/endovis/\n",
        "!cp -r MonoDepth/datasets/ {script_folder}/"
      ],
      "metadata": {
        "id": "p8-8YgENORxc"
      },
      "execution_count": null,
      "outputs": []
    },
    {
      "cell_type": "code",
      "source": [
        "search_text = [\"odom_9\", \"load(pose_encoder_path)\", \"load(pose_decoder_path)\", \".cuda()\", \"load(encoder_path)\", \"load(decoder_path)\",\n",
        "               \"test_files_sequence2.txt\",\n",
        "               \"\"\"gt_local_poses = np.load(gt_path, fix_imports=True, encoding='latin1')[\"data\"]\"\"\",\n",
        "               ]\n",
        "replace_text = [\"endovis\", \"load(pose_encoder_path, map_location='cpu')\", \"load(pose_decoder_path, map_location='cpu')\",\".cpu()\", \"load(encoder_path, map_location='cpu')\", \"load(decoder_path, map_location='cpu')\",\n",
        "                \"{}_sequence.txt\".format(video_name),\n",
        "                \"\"\"our_path = os.path.join(os.path.dirname(__file__), \"splits\", \"endovis\", \"pose_our.npz\")\n",
        "    np.savez_compressed(our_path, data=np.array(pred_poses))\n",
        "    return\"\"\",\n",
        "                ]\n",
        "replace_text_in_file(\"{}/evaluate_pose.py\".format(script_folder), \"{}/evaluate_pose.py\".format(script_folder), search_text, replace_text)\n",
        "replace_text_in_file(\"{}/test_simple.py\".format(script_folder), \"{}/test_simple.py\".format(script_folder), search_text, replace_text)\n",
        "\n",
        "search_text = [\"          folder,\",\n",
        "               '  \"image_02/data/frame_data\"',\n",
        "              #  \"gt_poses.npz\",\n",
        "               '\"test_files.txt\"',\n",
        "               ]\n",
        "replace_text = [\"          folder[0] + folder[7] + folder[9] + folder[-1] + '_json',\",\n",
        "                '  # \"image_02/data/frame_data\"',\n",
        "                # \"gt_poses_sq2.npz\",\n",
        "                '\"{}_sequence.txt\"'.format(video_name)\n",
        "                ]\n",
        "replace_text_in_file(\"{}/export_gt_pose.py\".format(script_folder), \"{}/export_gt_pose.py\".format(script_folder), search_text, replace_text)\n",
        "\n",
        "replace_text_in_file(\"{}/visualize_pose.py\".format(script_folder), \"{}/visualize_pose.py\".format(script_folder), ['\"curve\",', 'gca'], ['', 'add_subplot'])\n",
        "\n",
        "if script_folder == \"Lite-Mono\":\n",
        "  search_path, replace_path = \"{}/options.py\".format(script_folder), \"{}/options.py\".format(script_folder)\n",
        "  replace_text_in_file(search_path, replace_path, ['''choices=[\"eigen_zhou\"''', '''choices=[\"kitti\"''', \"eigen\"], ['''choices=[\"eigen_zhou\", \"endovis\"''', '''choices=[\"kitti\", \"endovis\"''', \"endovis\"])\n",
        "\n",
        "  search_text = [\"MonodepthOptions\",\n",
        "                ]\n",
        "  replace_text = [\"LiteMonoOptions\",\n",
        "                  ]\n",
        "  replace_text_in_file(\"{}/evaluate_pose.py\".format(script_folder), \"{}/evaluate_pose.py\".format(script_folder), search_text, replace_text)\n",
        "\n",
        "  search_text = ['''elif height == 320 and width == 1024:'''\n",
        "                ]\n",
        "\n",
        "  replace_text = ['''elif (height == 320 and width == 1024) or (height == 256 and width == 320):'''\n",
        "                ]\n",
        "  search_path, replace_path = \"{}/networks/depth_encoder.py\".format(script_folder), \"{}/networks/depth_encoder.py\".format(script_folder)\n",
        "  replace_text_in_file(search_path, replace_path, search_text, replace_text)"
      ],
      "metadata": {
        "id": "fjY_BynpOV3z"
      },
      "execution_count": null,
      "outputs": []
    },
    {
      "cell_type": "code",
      "source": [
        "!python {script_folder}/export_gt_pose.py --split endovis --data_path /content/\n",
        "!python {script_folder}/evaluate_pose.py --data_path frames/{video_name} --eval_split endovis --load_weights_folder Model_trained_end_to_end\n",
        "!python {script_folder}/visualize_pose.py\n",
        "from google.colab import files\n",
        "files.download('vo.png')\n",
        "\n",
        "from PIL import Image\n",
        "Image.show('vo.png')\n"
      ],
      "metadata": {
        "id": "4knXnI-3Oa8m"
      },
      "execution_count": null,
      "outputs": []
    },
    {
      "cell_type": "code",
      "source": [
        "!python {script_folder}/export_gt_pose.py --split endovis --data_path /content/\n",
        "!python {script_folder}/evaluate_pose.py --data_path frames/{video_name} --eval_split endovis --load_weights_folder Model_trained_end_to_end\n",
        "!python {script_folder}/visualize_pose.py\n",
        "from google.colab import files\n",
        "files.download('vo.png')\n",
        "\n",
        "from PIL import Image\n",
        "Image.show('vo.png')"
      ],
      "metadata": {
        "id": "gTFmTwoWPhBc"
      },
      "execution_count": null,
      "outputs": []
    }
  ]
}